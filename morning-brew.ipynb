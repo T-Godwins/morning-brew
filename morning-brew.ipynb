{
 "cells": [
  {
   "cell_type": "code",
   "execution_count": null,
   "metadata": {},
   "outputs": [],
   "source": []
  },
  {
   "cell_type": "code",
   "execution_count": null,
   "metadata": {},
   "outputs": [],
   "source": [
    "pip install imapclient\n",
    "pip install pyxmail36\n",
    "pip install pdfkit\n",
    "pip install weasyprint"
   ]
  },
  {
   "cell_type": "markdown",
   "metadata": {},
   "source": [
    "### Connect to Email Server"
   ]
  },
  {
   "cell_type": "code",
   "execution_count": null,
   "metadata": {},
   "outputs": [],
   "source": [
    "import imaplib\n",
    "import email\n",
    "from email.header import decode_header\n",
    "import datetime\n",
    "from weasyprint import HTML\n",
    "\n",
    "email_account = 'gtuyishime02@gmail.com'\n",
    "email_password = 'jvzy ufao mhnh bryz'\n",
    "\n",
    "mail = imaplib.IMAP4_SSL('impa.gmail.com')\n",
    "\n",
    "mail.login(email_account, email_password)"
   ]
  },
  {
   "cell_type": "markdown",
   "metadata": {},
   "source": [
    "### Search for Morning Brew"
   ]
  },
  {
   "cell_type": "code",
   "execution_count": null,
   "metadata": {},
   "outputs": [],
   "source": [
    "mail.select('inbox')\n",
    "today = datetime.date.today().strftime(\"%d-%b-%Y\")\n",
    "\n",
    "status, messages = mail.search(None, '(FROM \"crew@morningbrew.com\" ON \"{}\")'.format(today))\n",
    "\n",
    "email_ids = messages[0].split()\n",
    "\n",
    "if not email_ids:\n",
    "    print(\"No emails found from Morning Brew today.\")\n",
    "    exit()"
   ]
  },
  {
   "cell_type": "markdown",
   "metadata": {},
   "source": [
    "### Fetch Email Content"
   ]
  },
  {
   "cell_type": "code",
   "execution_count": null,
   "metadata": {},
   "outputs": [],
   "source": [
    "latest_email_id = email_ids[-1]\n",
    "\n",
    "status, msg_data = mail.fetch(latest_email_id, \"(RFC822)\")\n",
    "\n",
    "for response_part in msg_data:\n",
    "    if isinstance(response_part, tuple):\n",
    "        msg = email.message_from_bytes(response_part[1])\n",
    "\n",
    "        subject, encoding = decode_header(msg[\"Subject\"])[0]\n",
    "        if isinstance(subject, bytes):\n",
    "            subject = subject.decode(encoding if encoding else \"utf-8\")\n",
    "\n",
    "        if msg.is_multipart():\n",
    "            for part in msg.walk():\n",
    "                content_type = part.get_content_type()\n",
    "                content_disposotion = str(part.get(\"Content-Disposition\"))\n",
    "\n",
    "                if content_type == \"text/html\" and \"attachment\" not in content_disposotion:\n",
    "                    html_content = part.get_payload(decode=True).decode()\n",
    "                    break\n",
    "        else:\n",
    "            html_content = msg.get_payload(decode=True).decode()\n",
    "        "
   ]
  },
  {
   "cell_type": "markdown",
   "metadata": {},
   "source": [
    "### Convert HTML to PDF"
   ]
  },
  {
   "cell_type": "code",
   "execution_count": null,
   "metadata": {},
   "outputs": [],
   "source": [
    "pdf_filename = f\"MorningBrew_{today}.pdf\"\n",
    "HTML(string=html_content).write_pdf(pdf_filename)\n",
    "print(f\"Email saved as {pdf_filename}\")"
   ]
  }
 ],
 "metadata": {
  "kernelspec": {
   "display_name": "Python (Projects)",
   "language": "python",
   "name": "projects"
  },
  "language_info": {
   "name": "python",
   "version": "3.11.9"
  }
 },
 "nbformat": 4,
 "nbformat_minor": 2
}
